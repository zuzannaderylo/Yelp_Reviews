{
 "cells": [
  {
   "cell_type": "markdown",
   "id": "181bbe29-26f4-4c4a-a9e9-0053263bff52",
   "metadata": {},
   "source": [
    "# Assignment: Scalable Processing\n",
    "## Yelp Reviews and Authenticity\n",
    "\n",
    "Large Scale Data Analysis | by Zuzanna Emilia Derylo | zude@itu.dk | date 08.10.2024"
   ]
  },
  {
   "cell_type": "markdown",
   "id": "92690678-bb97-43d7-ab27-4a6f8db87079",
   "metadata": {},
   "source": [
    "## Connecting to the Spark Cluster job using the two JobParameters.json\n",
    "\n",
    "To connect this jupyter notebook with your Spark cluster, we need to tell jupyter how it can access the spark cluster. Below code accomplishes that. "
   ]
  },
  {
   "cell_type": "code",
   "execution_count": 14,
   "id": "d483a774-a0ca-4873-a2ee-51d2fcd30ead",
   "metadata": {
    "execution": {
     "iopub.execute_input": "2025-01-01T21:14:24.632879Z",
     "iopub.status.busy": "2025-01-01T21:14:24.632246Z",
     "iopub.status.idle": "2025-01-01T21:14:24.650978Z",
     "shell.execute_reply": "2025-01-01T21:14:24.650252Z",
     "shell.execute_reply.started": "2025-01-01T21:14:24.632824Z"
    },
    "tags": []
   },
   "outputs": [
    {
     "name": "stdout",
     "output_type": "stream",
     "text": [
      "Already been executed once, not running again!\n"
     ]
    }
   ],
   "source": [
    "#####################################################################\n",
    "# DO NOT CHANGE ANYTHING HERE.\n",
    "# IF YOU HAVE PROBLEMS, CHECK THE ASSIGNMENT GUIDE CAREFULLY \n",
    "#####################################################################\n",
    "    \n",
    "# Only execute this cell once.\n",
    "if '_EXECUTED_' in globals():\n",
    "    # check if variable '_EXECUTED_' exists in the global variable namespace\n",
    "    print(\"Already been executed once, not running again!\")\n",
    "else:\n",
    "    print(\"Cell has not been executed before, running...\")\n",
    "    import os, json, pyspark\n",
    "    from pyspark.conf import SparkConf\n",
    "    from pyspark.sql import SparkSession, functions as F\n",
    "\n",
    "    # Two files are automatically read: JobParameters.json for the Spark Cluster job using a temporary spark instance\n",
    "    # and JobParameters.json for the Jupyter Lab job to extract the hostname of the cluster. \n",
    "\n",
    "    MASTER_HOST_NAME = None\n",
    "\n",
    "    # Open the parameters Jupyter Lab app was launched with\n",
    "    with open('/work/JobParameters.json', 'r') as file:\n",
    "        JUPYTER_LAB_JOB_PARAMS = json.load(file)\n",
    "        # from pprint import pprint; pprint(JUPYTER_LAB_JOB_PARAMS) \n",
    "        for resource in JUPYTER_LAB_JOB_PARAMS['request']['resources']:\n",
    "            if 'hostname' in resource.keys():\n",
    "                MASTER_HOST_NAME = resource['hostname']\n",
    "\n",
    "    MASTER_HOST = f\"spark://{MASTER_HOST_NAME}:7077\"\n",
    "\n",
    "    conf = SparkConf().setAll([\n",
    "            (\"spark.app.name\", 'reading_job_params_app'), \n",
    "            (\"spark.master\", MASTER_HOST),\n",
    "        ])\n",
    "    spark = SparkSession.builder.config(conf=conf)\\\n",
    "                                .getOrCreate()\n",
    "\n",
    "    CLUSTER_PARAMETERS_JSON_DF = spark.read.option(\"multiline\",\"true\").json('/work/JobParameters.json')\n",
    "\n",
    "    # Extract cluster info from the specific JobParameters.json\n",
    "    NODES = CLUSTER_PARAMETERS_JSON_DF.select(\"request.replicas\").first()[0]\n",
    "    CPUS_PER_NODE = CLUSTER_PARAMETERS_JSON_DF.select(\"machineType.cpu\").first()[0] - 1\n",
    "    MEM_PER_NODE = CLUSTER_PARAMETERS_JSON_DF.select(\"machineType.memoryInGigs\").first()[0]\n",
    "\n",
    "    CLUSTER_CORES_MAX = CPUS_PER_NODE * NODES\n",
    "    CLUSTER_MEMORY_MAX = MEM_PER_NODE * NODES \n",
    "    \n",
    "    if CPUS_PER_NODE > 1:\n",
    "        EXECUTOR_CORES = CPUS_PER_NODE - 1  # set cores per executor on worker node\n",
    "    else:\n",
    "        EXECUTOR_CORES = CPUS_PER_NODE \n",
    "\n",
    "    EXECUTOR_MEMORY = int(\n",
    "        MEM_PER_NODE / (CPUS_PER_NODE / EXECUTOR_CORES) * 0.5\n",
    "    )  # set executor memory in GB on each worker node\n",
    "\n",
    "    # Make sure there is a dir for spark logs\n",
    "    if not os.path.exists('spark_logs'):\n",
    "        os.mkdir('spark_logs')\n",
    "\n",
    "    conf = SparkConf().setAll(\n",
    "        [\n",
    "            (\"spark.app.name\", 'spark_assignment'), # Change to your liking \n",
    "            (\"spark.sql.caseSensitive\", False), # Optional: Make queries strings sensitive to captialization\n",
    "            (\"spark.master\", MASTER_HOST),\n",
    "            (\"spark.cores.max\", CLUSTER_CORES_MAX),\n",
    "            (\"spark.executor.cores\", EXECUTOR_CORES),\n",
    "            (\"spark.executor.memory\", str(EXECUTOR_MEMORY) + \"g\"),\n",
    "            (\"spark.eventLog.enabled\", True),\n",
    "            (\"spark.eventLog.dir\", \"spark_logs\"),\n",
    "            (\"spark.history.fs.logDirectory\", \"spark_logs\"),\n",
    "            (\"spark.deploy.mode\", \"cluster\"),\n",
    "        ]\n",
    "    )\n",
    "\n",
    "    ## check executor memory, taking into accout 10% of memory overhead (minimum 384 MiB)\n",
    "    CHECK = (CLUSTER_CORES_MAX / EXECUTOR_CORES) * (\n",
    "        EXECUTOR_MEMORY + max(EXECUTOR_MEMORY * 0.10, 0.403)\n",
    "    )\n",
    "\n",
    "    assert (\n",
    "        int(CHECK) <= CLUSTER_MEMORY_MAX\n",
    "    ), \"Executor memory larger than cluster total memory!\"\n",
    "\n",
    "    # Stop previous session that was just for loading cluster params\n",
    "    spark.stop()\n",
    "\n",
    "    # Start new session with above config, that has better resource handling\n",
    "    spark = SparkSession.builder.config(conf=conf)\\\n",
    "                                .getOrCreate()\n",
    "    sc = spark.sparkContext\n",
    "    _EXECUTED_ = True\n",
    "    print(\"Success!\")"
   ]
  },
  {
   "cell_type": "markdown",
   "id": "93bbb4de-8b40-4364-b8d3-2cc488b16cbf",
   "metadata": {},
   "source": [
    "Click on the \"SparkMonitor\" tab at the top in Jupyter Lab to see the status of running code on the cluster."
   ]
  },
  {
   "cell_type": "markdown",
   "id": "b1de3dec-d95c-44b9-a996-12e97cc34c2b",
   "metadata": {},
   "source": [
    "## Loading the data\n",
    "Here we specify where the yelp datasets are located on UCloud and read then using the spark session."
   ]
  },
  {
   "cell_type": "code",
   "execution_count": 15,
   "id": "5fa96702-5902-4482-9cd2-77d6f5da0f75",
   "metadata": {
    "execution": {
     "iopub.execute_input": "2025-01-01T21:14:25.304183Z",
     "iopub.status.busy": "2025-01-01T21:14:25.303552Z",
     "iopub.status.idle": "2025-01-01T21:14:34.892646Z",
     "shell.execute_reply": "2025-01-01T21:14:34.891136Z",
     "shell.execute_reply.started": "2025-01-01T21:14:25.304117Z"
    },
    "tags": []
   },
   "outputs": [],
   "source": [
    "# Read in the business and review files\n",
    "# This is the path to the shared datasets provided by adding an the dataset input folder\n",
    "# when submitting the spark cluster job.\n",
    "business = spark.read.json('file:////work/yelp/yelp_academic_dataset_business.json') # Use the file:/// prefix to indicate we want to read from the cluster's filesystem\n",
    "business = business.persist()\n",
    "# Persist 2 commonly used dataframes since they're used for later computations\n",
    "# https://sparkbyexamples.com/spark/spark-difference-between-cache-and-persist/\n",
    "\n",
    "users = spark.read.json(\"file:////work/yelp/yelp_academic_dataset_user.json\")\n",
    "\n",
    "reviews = spark.read.json('file:////work/yelp/yelp_academic_dataset_review.json')\n",
    "reviews = reviews.persist()"
   ]
  },
  {
   "cell_type": "code",
   "execution_count": 16,
   "id": "e89f6184-410e-4a04-a4a1-7b080353dc1f",
   "metadata": {
    "execution": {
     "iopub.execute_input": "2025-01-01T21:14:34.913261Z",
     "iopub.status.busy": "2025-01-01T21:14:34.912960Z",
     "iopub.status.idle": "2025-01-01T21:14:51.517302Z",
     "shell.execute_reply": "2025-01-01T21:14:51.516011Z",
     "shell.execute_reply.started": "2025-01-01T21:14:34.913237Z"
    },
    "tags": []
   },
   "outputs": [
    {
     "data": {
      "text/plain": [
       "6990280"
      ]
     },
     "execution_count": 16,
     "metadata": {},
     "output_type": "execute_result"
    }
   ],
   "source": [
    "# Get number of rows with no sampling:\n",
    "reviews.count()"
   ]
  },
  {
   "cell_type": "code",
   "execution_count": 17,
   "id": "cc31d1a2-3571-49cd-af5a-98d6d23027de",
   "metadata": {
    "execution": {
     "iopub.execute_input": "2025-01-01T21:14:51.522289Z",
     "iopub.status.busy": "2025-01-01T21:14:51.521481Z",
     "iopub.status.idle": "2025-01-01T21:14:51.527870Z",
     "shell.execute_reply": "2025-01-01T21:14:51.527075Z",
     "shell.execute_reply.started": "2025-01-01T21:14:51.522191Z"
    },
    "tags": []
   },
   "outputs": [],
   "source": [
    "# # OPTIONAL:\n",
    "# # Reduce resource usage and make queries run faster\n",
    "# # by only using a small sample of the dataframe\n",
    "# # and overwriting previous variable \"df\".\n",
    "# # Useful while developing, not so much to\n",
    "# # provide final answers. Therefore: Remember to \n",
    "# # to re-read the df when done developing code using\n",
    "# # df = spark.read etc like above.\n",
    "# reviews = reviews.sample(withReplacement=False, fraction=1/50)\n",
    "\n",
    "# # Get number of rows after sampling:\n",
    "# reviews.count() "
   ]
  },
  {
   "cell_type": "markdown",
   "id": "7d258fa6-1402-4c3a-a252-a9dbfd4a87d9",
   "metadata": {},
   "source": [
    "Example: Say we're only interested in reviews of good mexican restaurants in Arizona. You can delete this when you do your own thing. "
   ]
  },
  {
   "cell_type": "code",
   "execution_count": 18,
   "id": "07983acb-15d8-45ea-9d12-3bc8759280b4",
   "metadata": {
    "execution": {
     "iopub.execute_input": "2025-01-01T21:14:51.581686Z",
     "iopub.status.busy": "2025-01-01T21:14:51.580662Z",
     "iopub.status.idle": "2025-01-01T21:15:00.115345Z",
     "shell.execute_reply": "2025-01-01T21:15:00.114466Z",
     "shell.execute_reply.started": "2025-01-01T21:14:51.581627Z"
    },
    "tags": []
   },
   "outputs": [
    {
     "name": "stdout",
     "output_type": "stream",
     "text": [
      "+--------------------+--------------------+\n",
      "|                name|                text|\n",
      "+--------------------+--------------------+\n",
      "|Casa Molina Del N...|We've been coming...|\n",
      "|St Mary's Mexican...|Some of the fines...|\n",
      "|Street- Taco and ...|Top notch street ...|\n",
      "|Indian Frybread-M...|This place is a h...|\n",
      "|St Mary's Mexican...|One of my favorit...|\n",
      "|Street- Taco and ...|This is my favori...|\n",
      "|Street- Taco and ...|Great food!  Grea...|\n",
      "|            BK Tacos|Quality ingredien...|\n",
      "|Street- Taco and ...|Best tacos in Tuc...|\n",
      "|        El Merendero|This place was fr...|\n",
      "|        El Merendero|To the reviewer w...|\n",
      "|Taqueria Pico De ...|If you are lookin...|\n",
      "|               Penca|Good unique Mexic...|\n",
      "|   La Mesa Tortillas|Incredible red ch...|\n",
      "|               Penca|I love this place...|\n",
      "|            BK Tacos|This place is the...|\n",
      "|Indian Frybread-M...|Wow! My sister ha...|\n",
      "|St Mary's Mexican...|Carne Seca burro ...|\n",
      "|             Club 21|The food was exce...|\n",
      "|      El Charro Cafe|This is the best ...|\n",
      "+--------------------+--------------------+\n",
      "only showing top 20 rows\n",
      "\n"
     ]
    }
   ],
   "source": [
    "# Filter to only Arizona businesses with \"Mexican\" as part of their categories\n",
    "az_mex = business.filter(business.state == \"AZ\")\\\n",
    "                .filter(business.categories.rlike(\"Mexican\"))\\\n",
    "                .select(\"business_id\", \"name\")\n",
    "\n",
    "# Join with the reviews\n",
    "az_mex_rs = reviews.join(az_mex, on=\"business_id\", how=\"inner\")\n",
    "\n",
    "# Filter to only 5 star reviews\n",
    "good_az_mex_rs = az_mex_rs.filter(az_mex_rs.stars == 5)\\\n",
    "                        .select(\"name\",\"text\")\n",
    "\n",
    "# Print the top 20 rows of the DataFrame\n",
    "good_az_mex_rs.show()\n",
    "\n",
    "# Convert to pandas (local object) and save to local file system\n",
    "good_az_mex_rs.toPandas().to_csv(\"good_az_reviews.csv\", header=True, index=False, encoding='utf-8')\n"
   ]
  },
  {
   "cell_type": "code",
   "execution_count": 19,
   "id": "706ebb17-90e2-4a10-8cfe-33333437155d",
   "metadata": {
    "execution": {
     "iopub.execute_input": "2025-01-01T21:15:00.116512Z",
     "iopub.status.busy": "2025-01-01T21:15:00.116294Z",
     "iopub.status.idle": "2025-01-01T21:15:00.123579Z",
     "shell.execute_reply": "2025-01-01T21:15:00.122631Z",
     "shell.execute_reply.started": "2025-01-01T21:15:00.116492Z"
    },
    "tags": []
   },
   "outputs": [
    {
     "name": "stdout",
     "output_type": "stream",
     "text": [
      "root\n",
      " |-- address: string (nullable = true)\n",
      " |-- attributes: struct (nullable = true)\n",
      " |    |-- AcceptsInsurance: string (nullable = true)\n",
      " |    |-- AgesAllowed: string (nullable = true)\n",
      " |    |-- Alcohol: string (nullable = true)\n",
      " |    |-- Ambience: string (nullable = true)\n",
      " |    |-- BYOB: string (nullable = true)\n",
      " |    |-- BYOBCorkage: string (nullable = true)\n",
      " |    |-- BestNights: string (nullable = true)\n",
      " |    |-- BikeParking: string (nullable = true)\n",
      " |    |-- BusinessAcceptsBitcoin: string (nullable = true)\n",
      " |    |-- BusinessAcceptsCreditCards: string (nullable = true)\n",
      " |    |-- BusinessParking: string (nullable = true)\n",
      " |    |-- ByAppointmentOnly: string (nullable = true)\n",
      " |    |-- Caters: string (nullable = true)\n",
      " |    |-- CoatCheck: string (nullable = true)\n",
      " |    |-- Corkage: string (nullable = true)\n",
      " |    |-- DietaryRestrictions: string (nullable = true)\n",
      " |    |-- DogsAllowed: string (nullable = true)\n",
      " |    |-- DriveThru: string (nullable = true)\n",
      " |    |-- GoodForDancing: string (nullable = true)\n",
      " |    |-- GoodForKids: string (nullable = true)\n",
      " |    |-- GoodForMeal: string (nullable = true)\n",
      " |    |-- HairSpecializesIn: string (nullable = true)\n",
      " |    |-- HappyHour: string (nullable = true)\n",
      " |    |-- HasTV: string (nullable = true)\n",
      " |    |-- Music: string (nullable = true)\n",
      " |    |-- NoiseLevel: string (nullable = true)\n",
      " |    |-- Open24Hours: string (nullable = true)\n",
      " |    |-- OutdoorSeating: string (nullable = true)\n",
      " |    |-- RestaurantsAttire: string (nullable = true)\n",
      " |    |-- RestaurantsCounterService: string (nullable = true)\n",
      " |    |-- RestaurantsDelivery: string (nullable = true)\n",
      " |    |-- RestaurantsGoodForGroups: string (nullable = true)\n",
      " |    |-- RestaurantsPriceRange2: string (nullable = true)\n",
      " |    |-- RestaurantsReservations: string (nullable = true)\n",
      " |    |-- RestaurantsTableService: string (nullable = true)\n",
      " |    |-- RestaurantsTakeOut: string (nullable = true)\n",
      " |    |-- Smoking: string (nullable = true)\n",
      " |    |-- WheelchairAccessible: string (nullable = true)\n",
      " |    |-- WiFi: string (nullable = true)\n",
      " |-- business_id: string (nullable = true)\n",
      " |-- categories: string (nullable = true)\n",
      " |-- city: string (nullable = true)\n",
      " |-- hours: struct (nullable = true)\n",
      " |    |-- Friday: string (nullable = true)\n",
      " |    |-- Monday: string (nullable = true)\n",
      " |    |-- Saturday: string (nullable = true)\n",
      " |    |-- Sunday: string (nullable = true)\n",
      " |    |-- Thursday: string (nullable = true)\n",
      " |    |-- Tuesday: string (nullable = true)\n",
      " |    |-- Wednesday: string (nullable = true)\n",
      " |-- is_open: long (nullable = true)\n",
      " |-- latitude: double (nullable = true)\n",
      " |-- longitude: double (nullable = true)\n",
      " |-- name: string (nullable = true)\n",
      " |-- postal_code: string (nullable = true)\n",
      " |-- review_count: long (nullable = true)\n",
      " |-- stars: double (nullable = true)\n",
      " |-- state: string (nullable = true)\n",
      "\n"
     ]
    }
   ],
   "source": [
    "# Getting to know the schema of the data. \n",
    "\n",
    "# Business schema\n",
    "business.printSchema()"
   ]
  },
  {
   "cell_type": "code",
   "execution_count": 20,
   "id": "9731c7dc-6ddb-41bc-bb41-0537460efa5a",
   "metadata": {
    "execution": {
     "iopub.execute_input": "2025-01-01T21:15:00.124734Z",
     "iopub.status.busy": "2025-01-01T21:15:00.124404Z",
     "iopub.status.idle": "2025-01-01T21:15:00.191592Z",
     "shell.execute_reply": "2025-01-01T21:15:00.189997Z",
     "shell.execute_reply.started": "2025-01-01T21:15:00.124714Z"
    },
    "tags": []
   },
   "outputs": [],
   "source": [
    "# All imports:\n",
    "from pyspark.sql.functions import sum, countDistinct, avg, col, lower, when, split, explode, count"
   ]
  },
  {
   "cell_type": "code",
   "execution_count": 21,
   "id": "4a2284a7-2039-49f3-821f-e9c6a6c6fd9d",
   "metadata": {
    "execution": {
     "iopub.execute_input": "2025-01-01T21:15:00.194017Z",
     "iopub.status.busy": "2025-01-01T21:15:00.193480Z",
     "iopub.status.idle": "2025-01-01T21:15:01.006550Z",
     "shell.execute_reply": "2025-01-01T21:15:01.004629Z",
     "shell.execute_reply.started": "2025-01-01T21:15:00.193967Z"
    },
    "tags": []
   },
   "outputs": [
    {
     "name": "stdout",
     "output_type": "stream",
     "text": [
      "+-------------+\n",
      "|total_reviews|\n",
      "+-------------+\n",
      "|      6745508|\n",
      "+-------------+\n",
      "\n"
     ]
    }
   ],
   "source": [
    "# 3.1.1 Find the total number of reviews for all businesses. \n",
    "# The output should be in the form of a Spark Table/DataFrame \n",
    "# with one value representing the count.\n",
    "\n",
    "# Count of all reviews from the business dataset\n",
    "# Note to self: agg automatically ignoers null values and it is in the form of Spark DataFrame\n",
    "total_reviews = business.agg(sum(\"review_count\").alias(\"total_reviews\")) \n",
    "\n",
    "# Show results\n",
    "total_reviews.show()\n",
    "\n",
    "# # Another approach using review dataset. Simply count the number of rows.\n",
    "# total_reviews1 = reviews.count()\n",
    "# print(total_reviews1)"
   ]
  },
  {
   "cell_type": "code",
   "execution_count": 22,
   "id": "ff683110-34d4-4f6a-a14a-c4d30ac1703d",
   "metadata": {
    "execution": {
     "iopub.execute_input": "2025-01-01T21:15:01.009327Z",
     "iopub.status.busy": "2025-01-01T21:15:01.008741Z",
     "iopub.status.idle": "2025-01-01T21:15:01.926693Z",
     "shell.execute_reply": "2025-01-01T21:15:01.925339Z",
     "shell.execute_reply.started": "2025-01-01T21:15:01.009274Z"
    },
    "tags": []
   },
   "outputs": [
    {
     "name": "stdout",
     "output_type": "stream",
     "text": [
      "+--------------------+-----+------------+\n",
      "|                name|stars|review_count|\n",
      "+--------------------+-----+------------+\n",
      "|     Blues City Deli|  5.0|         991|\n",
      "|            Tumerico|  5.0|         705|\n",
      "|  Free Tours By Foot|  5.0|         769|\n",
      "|                Yats|  5.0|         623|\n",
      "|   SUGARED + BRONZED|  5.0|         513|\n",
      "|Nelson's Green Br...|  5.0|         545|\n",
      "|Smiling With Hope...|  5.0|         526|\n",
      "|    Carlillos Cocina|  5.0|         799|\n",
      "|Barracuda Deli Ca...|  5.0|         521|\n",
      "+--------------------+-----+------------+\n",
      "\n"
     ]
    }
   ],
   "source": [
    "# Find all businesses that have received 5 stars and that have been reviewed \n",
    "# by 500 or more users. The output should be in the form of a DataFrame \n",
    "# of (name, stars, review count).\n",
    "\n",
    "# Filter businesses with 5 stars and with review count greater than or equal to 500\n",
    "filtered_businesses = business \\\n",
    "                    .filter((business[\"stars\"]==5) & (business[\"review_count\"]>=500))\\\n",
    "                    .select(\"name\", \"stars\", \"review_count\")\n",
    "\n",
    "# Show results\n",
    "filtered_businesses.show()"
   ]
  },
  {
   "cell_type": "code",
   "execution_count": 23,
   "id": "661e6297-0615-4f52-b866-d0ccdb9ecec1",
   "metadata": {
    "execution": {
     "iopub.execute_input": "2025-01-01T21:15:01.933729Z",
     "iopub.status.busy": "2025-01-01T21:15:01.933190Z",
     "iopub.status.idle": "2025-01-01T21:15:02.400334Z",
     "shell.execute_reply": "2025-01-01T21:15:02.398508Z",
     "shell.execute_reply.started": "2025-01-01T21:15:01.933692Z"
    },
    "tags": []
   },
   "outputs": [
    {
     "name": "stdout",
     "output_type": "stream",
     "text": [
      "+--------------------+\n",
      "|             user_id|\n",
      "+--------------------+\n",
      "|j14WgRoU_-2ZE1aw1...|\n",
      "|q_QQ5kBBwlCcbL1s4...|\n",
      "|MGPQVLsODMm9ZtYQW...|\n",
      "|NIhcRW6DWvk1JQhDh...|\n",
      "|QJI9OSEn6ujRCtrX0...|\n",
      "|AkBtT43dYcttxQ3qO...|\n",
      "|2l0O1EI1m0yWjFo2z...|\n",
      "|RgDVC3ZUBqpEe6Y1k...|\n",
      "|lquc6IF6uGIeRomDL...|\n",
      "|VHdY6oG2JPVNjihWh...|\n",
      "|om5ZiponkpRqUNa3p...|\n",
      "|K7thO1n-vZ9PFYiC7...|\n",
      "|UQFE3BT1rsIYrcDvu...|\n",
      "|jVYzrVblDFSuL3GHt...|\n",
      "|3zxy3LVBV3ttxoYbY...|\n",
      "|0G-QF457q_0Z_jKqh...|\n",
      "|ITa3vh5ERI90G_WP4...|\n",
      "|P5bUL3Engv-2z6kKo...|\n",
      "|ouODopBKF3AqfCkuQ...|\n",
      "|YMgZqBUAddmFErxLt...|\n",
      "+--------------------+\n",
      "only showing top 20 rows\n",
      "\n"
     ]
    }
   ],
   "source": [
    "# 3.1.3 Find influencers who have written more than 1000 reviews. \n",
    "# The output should be in the form of a Spark Table/DataFrame of user id.\n",
    "\n",
    "# Filter users that wrote more than 1000 reviews\n",
    "influencers = users\\\n",
    "                    .filter((users[\"review_count\"]>1000))\\\n",
    "                    .select(\"user_id\")\n",
    "\n",
    "# Show results\n",
    "influencers.show()"
   ]
  },
  {
   "cell_type": "code",
   "execution_count": 24,
   "id": "219d504e-4c45-4458-89a8-1c5f8c02e03d",
   "metadata": {
    "execution": {
     "iopub.execute_input": "2025-01-01T21:15:02.403130Z",
     "iopub.status.busy": "2025-01-01T21:15:02.402411Z",
     "iopub.status.idle": "2025-01-01T21:15:10.032081Z",
     "shell.execute_reply": "2025-01-01T21:15:10.030479Z",
     "shell.execute_reply.started": "2025-01-01T21:15:02.403076Z"
    },
    "tags": []
   },
   "outputs": [
    {
     "name": "stdout",
     "output_type": "stream",
     "text": [
      "+--------------------+\n",
      "|                name|\n",
      "+--------------------+\n",
      "|Iron Hill Brewery...|\n",
      "|      Slice Pizzeria|\n",
      "|     Shanghai Bazaar|\n",
      "|Peacemaker Lobste...|\n",
      "|      Fat Dan's Deli|\n",
      "|              Pho Ha|\n",
      "|     Green Eggs Café|\n",
      "|Philadelphia Marr...|\n",
      "|Tampa Bay History...|\n",
      "|   Vieux Carre Pizza|\n",
      "|Hobnobber's Varie...|\n",
      "|Smiling With Hope...|\n",
      "|       Highland Park|\n",
      "|Sanwa Farmers Market|\n",
      "|      Dim Sum Garden|\n",
      "|   Zia's on the Hill|\n",
      "|        Exo Roast Co|\n",
      "|  Razzoo Bar & Patio|\n",
      "|Hog Island Fish Camp|\n",
      "|Boathouse at Hend...|\n",
      "+--------------------+\n",
      "only showing top 20 rows\n",
      "\n"
     ]
    }
   ],
   "source": [
    "# 3.1.4 Find the businesses names that have been reviewed by more than 5 influencer users. \n",
    "# You can use a view created from your answer to Q3.\n",
    "\n",
    "# Joining the review data with influencer data to find reviews made by influencers\n",
    "rev_infl = influencers.join(reviews, on=\"user_id\", how=\"inner\")\n",
    "\n",
    "# Counting how many influencers reviewed each business\n",
    "rev_bus_infl = rev_infl\\\n",
    "            .groupBy(\"business_id\")\\\n",
    "            .agg(countDistinct(\"user_id\").alias(\"influencer_count\"))\n",
    "                 \n",
    "# Finding businesses that were reviewed by more than 5 influencers\n",
    "bus_infl = rev_bus_infl.filter(rev_bus_infl[\"influencer_count\"]>5)\n",
    "\n",
    "# The names of those businesses\n",
    "popular_business = bus_infl\\\n",
    "                 .join(business, on=\"business_id\", how=\"inner\")\\\n",
    "                 .select(\"name\")\n",
    "\n",
    "# popular_business_count = popular_business.count()\n",
    "# print(popular_business_count)\n",
    "                 \n",
    "# Show results\n",
    "popular_business.show()"
   ]
  },
  {
   "cell_type": "code",
   "execution_count": 25,
   "id": "e71e9739-e7b7-4a85-8bfa-830387db3013",
   "metadata": {
    "execution": {
     "iopub.execute_input": "2025-01-01T21:15:10.035610Z",
     "iopub.status.busy": "2025-01-01T21:15:10.034733Z",
     "iopub.status.idle": "2025-01-01T21:15:14.680209Z",
     "shell.execute_reply": "2025-01-01T21:15:14.629598Z",
     "shell.execute_reply.started": "2025-01-01T21:15:10.035534Z"
    },
    "tags": []
   },
   "outputs": [
    {
     "name": "stdout",
     "output_type": "stream",
     "text": [
      "+--------------------+-------------+\n",
      "|             user_id|average_stars|\n",
      "+--------------------+-------------+\n",
      "|F01yNRYCi1S6Of1ZO...|          5.0|\n",
      "|Jp1DDbOkQkDmhn0qM...|          5.0|\n",
      "|iuMioByR5nzuObg7z...|          5.0|\n",
      "|AGJw2U3saGsoFdq5S...|          5.0|\n",
      "|kD4Afy0o9o3bW_nEr...|          5.0|\n",
      "|Di_afB79q7a1SwlZM...|          5.0|\n",
      "|eGDpkaCvmqVGZMlSE...|          5.0|\n",
      "|MCCJIanpZb-uHgI09...|          5.0|\n",
      "|1YzqC12iXCBKpuSRW...|          5.0|\n",
      "|kaSv0qKBOJ1Fi0jew...|          5.0|\n",
      "|0o_jgqmuY3leWWa_X...|          5.0|\n",
      "|KjDQGh3cd93OFhXsY...|          5.0|\n",
      "|ItYOJnVe5C2uAe6L3...|          5.0|\n",
      "|0p-CF_aaDuXEjY4Le...|          5.0|\n",
      "|4JamwGrnS1adH_J1j...|          5.0|\n",
      "|d9-BlPLwiioTkKm-x...|          5.0|\n",
      "|_NS4zN5-hFG9USP1u...|          5.0|\n",
      "|rqySPzInkWIW65HLv...|          5.0|\n",
      "|Mz-NlJVfGUnNpOiiR...|          5.0|\n",
      "|iTiomB-ynFMysGQrg...|          5.0|\n",
      "+--------------------+-------------+\n",
      "only showing top 20 rows\n",
      "\n"
     ]
    }
   ],
   "source": [
    "# 3.1.5 Find an ordered list of users based on the \n",
    "# average star counts they have given in all their reviews.\n",
    "\n",
    "# Group reviews by user_id and calculate the average star count\n",
    "user_avg_stars = reviews\\\n",
    "                    .groupBy(\"user_id\")\\\n",
    "                    .agg(avg(\"stars\").alias(\"average_stars\"))\n",
    "\n",
    "# Ordered list\n",
    "ordered_users_avg_stars = user_avg_stars.orderBy(\"average_stars\", ascending=False)\n",
    "\n",
    "# ordered_users_avg_stars_count = ordered_users_avg_stars.count()\n",
    "# print(ordered_users_avg_stars_count)\n",
    "\n",
    "# Show results\n",
    "ordered_users_avg_stars.show()"
   ]
  },
  {
   "cell_type": "code",
   "execution_count": 26,
   "id": "67625967-f20a-46dd-b53c-8c86dc091da2",
   "metadata": {
    "execution": {
     "iopub.execute_input": "2025-01-01T21:15:14.684298Z",
     "iopub.status.busy": "2025-01-01T21:15:14.683428Z",
     "iopub.status.idle": "2025-01-01T21:15:47.712902Z",
     "shell.execute_reply": "2025-01-01T21:15:47.711801Z",
     "shell.execute_reply.started": "2025-01-01T21:15:14.684214Z"
    },
    "tags": []
   },
   "outputs": [
    {
     "name": "stdout",
     "output_type": "stream",
     "text": [
      "Percentage of reviews that contain a variant of the word 'authentic': 23.38%\n"
     ]
    }
   ],
   "source": [
    "# 3.2.1 Data exploration\n",
    "# What is the percentage of reviews that contain a variant of the word \"authentic\"?\n",
    "\n",
    "# Variants (synonyms) of authentic: authentic, traditional, original, real, genuine, legitimate\n",
    "authentic_variants = \"authentic|traditional|original|real|legitimate|genuine\"\n",
    "\n",
    "# Filter for reviews containing those variants. Set authentic flag to 1 if there is variant of word \"authentic\", otherwise set to 0\n",
    "reviews_with_authentic = reviews.withColumn(\n",
    "    \"authentic_flag\",\n",
    "    when(lower(col(\"text\")).rlike(authentic_variants), 1).otherwise(0)\n",
    ")\n",
    "authentic_reviews_count = reviews_with_authentic.filter(col(\"authentic_flag\") == 1).count()\n",
    "\n",
    "# Total number of reviews (from reviews data)\n",
    "total_reviews_count = reviews.count()\n",
    "\n",
    "# Percentage of those reviews\n",
    "percentage_reviews_authentic = round((authentic_reviews_count / total_reviews_count) * 100, 2)\n",
    "\n",
    "print(f\"Percentage of reviews that contain a variant of the word 'authentic': {percentage_reviews_authentic}%\")\n"
   ]
  },
  {
   "cell_type": "code",
   "execution_count": 27,
   "id": "ffca5a50-4e96-4e7b-8f26-bfb5b95b5a9d",
   "metadata": {
    "execution": {
     "iopub.execute_input": "2025-01-01T21:15:47.714992Z",
     "iopub.status.busy": "2025-01-01T21:15:47.714648Z",
     "iopub.status.idle": "2025-01-01T21:15:48.910872Z",
     "shell.execute_reply": "2025-01-01T21:15:48.909373Z",
     "shell.execute_reply.started": "2025-01-01T21:15:47.714959Z"
    },
    "tags": []
   },
   "outputs": [
    {
     "name": "stdout",
     "output_type": "stream",
     "text": [
      "+-------------+-----+\n",
      "|category     |count|\n",
      "+-------------+-----+\n",
      "|restaurants  |52268|\n",
      "|food         |27781|\n",
      "|shopping     |24395|\n",
      "|home services|14356|\n",
      "|beauty & spas|14292|\n",
      "+-------------+-----+\n",
      "only showing top 5 rows\n",
      "\n"
     ]
    }
   ],
   "source": [
    "# Split the categories into a list of individual categories\n",
    "split_categories = business.withColumn(\"category\", explode(split(lower(col(\"categories\")), \",\\\\s*\")))\n",
    "\n",
    "# Group by the individual categories and count how many times each category appears\n",
    "category_count = split_categories.groupBy(\"category\").agg(count(\"*\").alias(\"count\"))\n",
    "\n",
    "# Order by count and show the top categories\n",
    "category_count_ordered = category_count.orderBy(col(\"count\").desc()) \n",
    "category_count_ordered.show(5, truncate=False)"
   ]
  },
  {
   "cell_type": "code",
   "execution_count": 28,
   "id": "3d3367fd-1a0e-4503-a1d2-93d61f656c6d",
   "metadata": {
    "execution": {
     "iopub.execute_input": "2025-01-01T21:15:48.980726Z",
     "iopub.status.busy": "2025-01-01T21:15:48.979741Z",
     "iopub.status.idle": "2025-01-01T21:15:56.997632Z",
     "shell.execute_reply": "2025-01-01T21:15:56.996216Z",
     "shell.execute_reply.started": "2025-01-01T21:15:48.980646Z"
    },
    "tags": []
   },
   "outputs": [
    {
     "name": "stdout",
     "output_type": "stream",
     "text": [
      "+--------------+-------------+\n",
      "|      category|count_reviews|\n",
      "+--------------+-------------+\n",
      "|       mexican|          295|\n",
      "|       italian|          271|\n",
      "|       chinese|          159|\n",
      "|      japanese|          151|\n",
      "|          thai|           86|\n",
      "|    vietnamese|           65|\n",
      "|        french|           60|\n",
      "|        korean|           50|\n",
      "|middle eastern|           47|\n",
      "|         greek|           42|\n",
      "|        indian|           35|\n",
      "|         cuban|           26|\n",
      "|     caribbean|           22|\n",
      "|         irish|           21|\n",
      "|      szechuan|           20|\n",
      "|       spanish|           19|\n",
      "|     pakistani|           15|\n",
      "|       british|           13|\n",
      "|        german|           12|\n",
      "|      lebanese|           11|\n",
      "+--------------+-------------+\n",
      "only showing top 20 rows\n",
      "\n"
     ]
    }
   ],
   "source": [
    "# Cuisine list based on previous analysis\n",
    "cuisine_list = [\"american\", \"mexican\", \"italian\", \"chinese\", \"japanese\", \"thai\", \n",
    "                \"vietnamese\", \"indian\", \"greek\", \"caribbean\", \"middle eastern\", \n",
    "                \"french\", \"korean\", \"spanish\", \"cuban\", \"canadian\", \"pakistani\", \n",
    "                \"irish\", \"german\", \"african\", \"szechuan\", \"filipino\", \"puertorican\", \n",
    "                \"turkish\", \"lebanese\", \"peruvian\", \"taiwanese\", \"brazilian\", \n",
    "                \"british\", \"ethiopian\", \"salvadorian\", \"moroccan\", \"venezuelan\", \n",
    "                \"afghan\", \"dominican\", \"mongolian\", \"polish\", \"russian\", \"arabic\", \n",
    "                \"persian/iranian\", \"portuguese\", \"malaysian\", \"hondurian\", \"belgian\", \n",
    "                \"indonesian\", \"ukrainian\", \"cambodian\", \"egyptian\", \"armenian\"]\n",
    "\n",
    "# Reviews containing the string \"legitimate\"\n",
    "reviews_with_variant = reviews.filter(lower(col(\"text\")).rlike(\"legitimate\"))\n",
    "\n",
    "# Split the categories into individual categories\n",
    "cuisine_businesses = business.withColumn(\"category\", explode(split(lower(col(\"categories\")), \",\\\\s*\")))\n",
    "\n",
    "# Filter for rows where the category matches any cuisine in the cuisine_list\n",
    "cuisine_businesses_filtered = cuisine_businesses.filter(col(\"category\").isin([cuisine.lower() for cuisine in cuisine_list]))\n",
    "\n",
    "# Join the filtered businesses with the reviews that contain \"legitimate\"\n",
    "reviews_with_cuisine = reviews_with_variant.join(cuisine_businesses_filtered, on=\"business_id\", how=\"inner\")\n",
    "\n",
    "# Group by the cuisine category and count the number of reviews for each cuisine\n",
    "reviews_grouped_by_cuisine = reviews_with_cuisine.groupBy(\"category\") \\\n",
    "    .agg(count(\"review_id\").alias(\"count_reviews\")) \\\n",
    "    .orderBy(\"count_reviews\", ascending=False)\n",
    "\n",
    "# Show the result\n",
    "reviews_grouped_by_cuisine.show()"
   ]
  },
  {
   "cell_type": "code",
   "execution_count": 29,
   "id": "d7a2d59f-119e-411e-ac36-648b928f7e47",
   "metadata": {
    "execution": {
     "iopub.execute_input": "2025-01-01T21:15:57.000339Z",
     "iopub.status.busy": "2025-01-01T21:15:56.999747Z",
     "iopub.status.idle": "2025-01-01T21:17:11.039430Z",
     "shell.execute_reply": "2025-01-01T21:17:11.037820Z",
     "shell.execute_reply.started": "2025-01-01T21:15:57.000293Z"
    },
    "tags": []
   },
   "outputs": [
    {
     "name": "stdout",
     "output_type": "stream",
     "text": [
      "+----------------+-------------+\n",
      "|            city|total_reviews|\n",
      "+----------------+-------------+\n",
      "|    Philadelphia|       525908|\n",
      "|     New Orleans|       296926|\n",
      "|       Nashville|       213838|\n",
      "|           Tampa|       208160|\n",
      "|          Tucson|       185126|\n",
      "|    Indianapolis|       173506|\n",
      "|            Reno|       163038|\n",
      "|     Saint Louis|       128384|\n",
      "|   Santa Barbara|       127348|\n",
      "|        Edmonton|        62098|\n",
      "|           Boise|        46190|\n",
      "|      Clearwater|        35534|\n",
      "|Saint Petersburg|        34932|\n",
      "|          Sparks|        31168|\n",
      "|       St. Louis|        29648|\n",
      "|        Metairie|        28194|\n",
      "|        Franklin|        24504|\n",
      "|  St. Petersburg|        24194|\n",
      "|          Goleta|        22124|\n",
      "|      Wilmington|        19694|\n",
      "+----------------+-------------+\n",
      "only showing top 20 rows\n",
      "\n",
      "+-----+-------------+\n",
      "|state|total_reviews|\n",
      "+-----+-------------+\n",
      "|   PA|       404916|\n",
      "|   FL|       248080|\n",
      "|   LA|       175867|\n",
      "|   TN|       141103|\n",
      "|   MO|       120587|\n",
      "|   IN|       114707|\n",
      "|   NV|        98367|\n",
      "|   AZ|        98011|\n",
      "|   CA|        82189|\n",
      "|   NJ|        57797|\n",
      "|   ID|        34180|\n",
      "|   AB|        33091|\n",
      "|   DE|        15235|\n",
      "|   IL|        10308|\n",
      "|   SD|           13|\n",
      "|   CO|           13|\n",
      "|   HI|           13|\n",
      "|   TX|            9|\n",
      "|   UT|            6|\n",
      "|   MT|            3|\n",
      "+-----+-------------+\n",
      "only showing top 20 rows\n",
      "\n"
     ]
    }
   ],
   "source": [
    "# Is there a difference in the amount of authenticity language used in the different areas? \n",
    "# (e.g., by state, north/south, urban/rural)\n",
    "# Note: As part of answering this question, you could compute the full cube or rollup combining\n",
    "# the location of the business and whether the review contains authenticity language,\n",
    "# and use this to aggregate their counts per state and city.\n",
    "\n",
    "# I'm using the \"reviews_with_authentic\" from previous part\n",
    "# Join reviews with business information to information about cityy and state\n",
    "reviews_with_location = reviews_with_authentic.join(\n",
    "    business.select(\"business_id\", \"city\", \"state\"),\n",
    "    on=\"business_id\", how=\"inner\"\n",
    ")\n",
    "\n",
    "# # Results as cube\n",
    "# cube_results = reviews_with_location.cube(\"state\", \"city\", \"authentic_flag\") \\\n",
    "#     .agg(count(\"*\").alias(\"review_count\")) \\\n",
    "#     .orderBy(\"state\", \"city\", \"authentic_flag\")\n",
    "# cube_results = cube_results.filter(col(\"authentic_flag\") == 1)\n",
    "\n",
    "# cube_results.show() \n",
    "\n",
    "# # Results as rollup\n",
    "# rollup_results = reviews_with_location.rollup(\"state\", \"city\", \"authentic_flag\") \\\n",
    "#     .agg(count(\"*\").alias(\"review_count\")) \\\n",
    "#     .orderBy(\"state\", \"city\", \"authentic_flag\")\n",
    "\n",
    "# rollup_results.show()\n",
    "\n",
    "# Results grouped by cities\n",
    "results_by_city = reviews_with_location.cube(\"state\", \"city\", \"authentic_flag\") \\\n",
    "    .agg(count(\"*\").alias(\"review_count\")) \\\n",
    "    .filter(col(\"authentic_flag\") == 1) \\\n",
    "    .filter(col(\"city\").isNotNull()) \\\n",
    "    .groupBy(\"city\") \\\n",
    "    .agg(sum(\"review_count\").alias(\"total_reviews\")) \\\n",
    "    .orderBy(\"total_reviews\", ascending=False)\n",
    "\n",
    "results_by_city.show()\n",
    "\n",
    "# Results grouped by states\n",
    "results_by_state = reviews_with_location.cube(\"state\", \"authentic_flag\") \\\n",
    "    .agg(count(\"*\").alias(\"review_count\")) \\\n",
    "    .filter(col(\"authentic_flag\") == 1) \\\n",
    "    .filter(col(\"state\").isNotNull()) \\\n",
    "    .groupBy(\"state\") \\\n",
    "    .agg(sum(\"review_count\").alias(\"total_reviews\")) \\\n",
    "    .orderBy(\"total_reviews\", ascending=False)\n",
    "\n",
    "# Show the result\n",
    "results_by_state.show()\n"
   ]
  },
  {
   "cell_type": "code",
   "execution_count": 30,
   "id": "d2f7ef81-e225-4c3f-8b0d-eef1ef56dd04",
   "metadata": {
    "execution": {
     "iopub.execute_input": "2025-01-01T21:17:11.042137Z",
     "iopub.status.busy": "2025-01-01T21:17:11.041592Z",
     "iopub.status.idle": "2025-01-01T21:17:11.381983Z",
     "shell.execute_reply": "2025-01-01T21:17:11.380392Z",
     "shell.execute_reply.started": "2025-01-01T21:17:11.042086Z"
    },
    "tags": []
   },
   "outputs": [],
   "source": [
    "# 3.2.2 Can you identify a difference in the relationship between authenticity language\n",
    "# and typically negative words, in restaurants serving South American or Asian cuisine \n",
    "# compared to restaurants serving European cuisine? And to what degree?\n",
    "\n",
    "# Dividing types of cuisines into three categories: South American, Asian and European\n",
    "south_american_cuisines = [\"mexican\", \"brazilian\", \"venezuelan\", \"peruvian\", \"cuban\", \"salvadorian\", \"dominican\", \"honduran\"]\n",
    "asian_cuisines = [\"chinese\", \"japanese\", \"thai\", \"vietnamese\", \"korean\", \"indian\", \"pakistani\", \"szechuan\", \"taiwanese\", \"filipino\", \"malaysian\", \"indonesian\", \"himalayan/nepalese\", \"afghan\", \"mongolian\", \"cambodian\"]\n",
    "european_cuisines = [\"italian\", \"french\", \"german\", \"spanish\", \"greek\", \"irish\", \"british\", \"portuguese\", \"polish\", \"belgian\", \"ukrainian\"]\n",
    "\n",
    "# Filter businesses by cuisine types\n",
    "south_american_businesses = cuisine_businesses.filter(col(\"category\").isin([cuisine.lower() for cuisine in south_american_cuisines]))\n",
    "asian_businesses = cuisine_businesses.filter(col(\"category\").isin([cuisine.lower() for cuisine in asian_cuisines]))\n",
    "european_businesses = cuisine_businesses.filter(col(\"category\").isin([cuisine.lower() for cuisine in european_cuisines]))\n",
    "\n",
    "# # Show results\n",
    "# south_american_businesses.show()\n",
    "# asian_businesses.show()\n",
    "# european_businesses.show()"
   ]
  },
  {
   "cell_type": "code",
   "execution_count": 31,
   "id": "eeeb15ea-9771-4ed6-ab39-8ae916efd816",
   "metadata": {
    "execution": {
     "iopub.execute_input": "2025-01-01T21:17:11.384631Z",
     "iopub.status.busy": "2025-01-01T21:17:11.383924Z",
     "iopub.status.idle": "2025-01-01T21:17:11.409869Z",
     "shell.execute_reply": "2025-01-01T21:17:11.408471Z",
     "shell.execute_reply.started": "2025-01-01T21:17:11.384578Z"
    },
    "tags": []
   },
   "outputs": [],
   "source": [
    "# Filtering reviews that contain authenticity langage and typically negative words\n",
    "\n",
    "# Variants for \"authentic\" and \"negative\" flags\n",
    "# authentic_variants was created before\n",
    "negative_variants = \"dirty|cheap|kitsch|rude|simple|disappointing|bad|worst|terrible|overrated|soggy|bland|horrible|inedible|disgusting|poor\"\n",
    "\n",
    "# Applying authentic and negative flags to all reviews database\n",
    "reviews_with_flags = reviews.withColumn(\n",
    "    \"authentic_flag\",\n",
    "    when(lower(col(\"text\")).rlike(authentic_variants), 1).otherwise(0)\n",
    ").withColumn(\n",
    "    \"negative_flag\",\n",
    "    when(lower(col(\"text\")).rlike(negative_variants), 1).otherwise(0)\n",
    ")"
   ]
  },
  {
   "cell_type": "code",
   "execution_count": 32,
   "id": "277608c6-31ab-4071-b545-cf8530b79d29",
   "metadata": {
    "execution": {
     "iopub.execute_input": "2025-01-01T21:17:11.412494Z",
     "iopub.status.busy": "2025-01-01T21:17:11.411798Z",
     "iopub.status.idle": "2025-01-01T21:17:11.561012Z",
     "shell.execute_reply": "2025-01-01T21:17:11.559535Z",
     "shell.execute_reply.started": "2025-01-01T21:17:11.412441Z"
    },
    "tags": []
   },
   "outputs": [],
   "source": [
    "# # Filter reviews by cuisine type\n",
    "# south_american_reviews = reviews_with_flags.join(south_american_businesses, on=\"business_id\", how=\"inner\")\n",
    "# asian_reviews = reviews_with_flags.join(asian_businesses, on=\"business_id\", how=\"inner\")\n",
    "# european_reviews = reviews_with_flags.join(european_businesses, on=\"business_id\", how=\"inner\")"
   ]
  },
  {
   "cell_type": "code",
   "execution_count": 33,
   "id": "71e08e88-5ade-49fb-b0e7-80b9b4ba8f41",
   "metadata": {
    "execution": {
     "iopub.execute_input": "2025-01-01T21:17:11.563738Z",
     "iopub.status.busy": "2025-01-01T21:17:11.562830Z",
     "iopub.status.idle": "2025-01-01T21:17:11.766496Z",
     "shell.execute_reply": "2025-01-01T21:17:11.764872Z",
     "shell.execute_reply.started": "2025-01-01T21:17:11.563684Z"
    },
    "tags": []
   },
   "outputs": [],
   "source": [
    "# # Reviews from each cuisine \n",
    "\n",
    "# # South american\n",
    "# south_american_reviews_count = south_american_reviews.count()\n",
    "# print(south_american_reviews_count)\n",
    "\n",
    "# # Asian\n",
    "# asian_reviews_count = asian_reviews.count()\n",
    "# print(asian_reviews_count)\n",
    "\n",
    "# # European\n",
    "# european_reviews_count = european_reviews.count()\n",
    "# print(european_reviews_count)\n"
   ]
  },
  {
   "cell_type": "code",
   "execution_count": 34,
   "id": "384d5401-b3d1-45dd-8d59-b4b952faac20",
   "metadata": {
    "execution": {
     "iopub.execute_input": "2025-01-01T21:17:11.769087Z",
     "iopub.status.busy": "2025-01-01T21:17:11.768406Z",
     "iopub.status.idle": "2025-01-01T21:17:11.800360Z",
     "shell.execute_reply": "2025-01-01T21:17:11.798781Z",
     "shell.execute_reply.started": "2025-01-01T21:17:11.769033Z"
    },
    "tags": []
   },
   "outputs": [],
   "source": [
    "# # Filtering the reviews with authentic language for each cuisine type\n",
    "\n",
    "# # South american\n",
    "# south_american_reviews_authentic = south_american_reviews.filter(col(\"authentic_flag\") == 1)\n",
    "# south_american_reviews_authentic_count = south_american_reviews_authentic.count()\n",
    "# print(south_american_reviews_authentic_count)\n",
    "\n",
    "# # Asian\n",
    "# asian_reviews_authentic = asian_reviews.filter(col(\"authentic_flag\") == 1)\n",
    "# asian_reviews_authentic_count = asian_reviews_authentic.count()\n",
    "# print(asian_reviews_authentic_count)\n",
    "\n",
    "# # European\n",
    "# european_reviews_authentic = european_reviews.filter(col(\"authentic_flag\") == 1)\n",
    "# european_reviews_authentic_count = european_reviews_authentic.count()\n",
    "# print(european_reviews_authentic_count)"
   ]
  },
  {
   "cell_type": "code",
   "execution_count": 35,
   "id": "a0daae5b-7625-4861-8cf4-efc24ab60fb6",
   "metadata": {
    "execution": {
     "iopub.execute_input": "2025-01-01T21:17:11.802858Z",
     "iopub.status.busy": "2025-01-01T21:17:11.802197Z",
     "iopub.status.idle": "2025-01-01T21:17:11.819653Z",
     "shell.execute_reply": "2025-01-01T21:17:11.818273Z",
     "shell.execute_reply.started": "2025-01-01T21:17:11.802806Z"
    },
    "tags": []
   },
   "outputs": [],
   "source": [
    "# # Filtering the reviews with negative language for each cuisine type\n",
    "\n",
    "# # South american\n",
    "# south_american_reviews_negative = south_american_reviews.filter(col(\"negative_flag\") == 1)\n",
    "# south_american_reviews_negative_count = south_american_reviews_negative.count()\n",
    "# print(south_american_reviews_negative_count)\n",
    "\n",
    "# # Asian\n",
    "# asian_reviews_negative = asian_reviews.filter(col(\"negative_flag\") == 1)\n",
    "# asian_reviews_negative_count = asian_reviews_negative.count()\n",
    "# print(asian_reviews_negative_count)\n",
    "\n",
    "# # European\n",
    "# european_reviews_negative = european_reviews.filter(col(\"negative_flag\") == 1)\n",
    "# european_reviews_negative_count = european_reviews_negative.count()\n",
    "# print(european_reviews_negative_count)"
   ]
  },
  {
   "cell_type": "code",
   "execution_count": 36,
   "id": "e64a0789-9000-4864-ae31-c7fb01238874",
   "metadata": {
    "execution": {
     "iopub.execute_input": "2025-01-01T21:17:11.822195Z",
     "iopub.status.busy": "2025-01-01T21:17:11.821514Z",
     "iopub.status.idle": "2025-01-01T21:17:11.843591Z",
     "shell.execute_reply": "2025-01-01T21:17:11.842031Z",
     "shell.execute_reply.started": "2025-01-01T21:17:11.822124Z"
    },
    "tags": []
   },
   "outputs": [],
   "source": [
    "# # Filtering the reviews with both authentic and negative language for each cuisine type\n",
    "\n",
    "# # South american cuisine\n",
    "# south_american_reviews_both = south_american_reviews.filter(\n",
    "#     (col(\"authentic_flag\") == 1) & (col(\"negative_flag\") == 1)\n",
    "# )\n",
    "# south_american_reviews_both_count = south_american_reviews_both.count()\n",
    "# print(south_american_reviews_both_count)\n",
    "\n",
    "# # Asian cuisine\n",
    "# asian_reviews_both = asian_reviews.filter(\n",
    "#     (col(\"authentic_flag\") == 1) & (col(\"negative_flag\") == 1)\n",
    "# )\n",
    "# asian_reviews_both_count = asian_reviews_both.count()\n",
    "# print(asian_reviews_both_count)\n",
    "\n",
    "# # European cuisine\n",
    "# european_reviews_both = european_reviews.filter(\n",
    "#     (col(\"authentic_flag\") == 1) & (col(\"negative_flag\") == 1)\n",
    "# )\n",
    "# european_reviews_both_count = european_reviews_both.count()\n",
    "# print(european_reviews_both_count)"
   ]
  },
  {
   "cell_type": "code",
   "execution_count": 37,
   "id": "4ccd4819-94c8-4fd3-8b19-285acfcd1b5e",
   "metadata": {
    "execution": {
     "iopub.execute_input": "2025-01-01T21:17:11.846087Z",
     "iopub.status.busy": "2025-01-01T21:17:11.845402Z",
     "iopub.status.idle": "2025-01-01T21:17:11.863645Z",
     "shell.execute_reply": "2025-01-01T21:17:11.862275Z",
     "shell.execute_reply.started": "2025-01-01T21:17:11.846034Z"
    },
    "tags": []
   },
   "outputs": [],
   "source": [
    "# # Ratio of reviews with negative language to all negative reviews\n",
    "\n",
    "# # Total number of negative reviews\n",
    "# total_negative_reviews = reviews_with_flags.filter(col(\"negative_flag\") == 1).count()\n",
    "\n",
    "# # South american cuisine\n",
    "# south_american_negative_to_total_negative_ratio = (south_american_reviews_negative_count / total_negative_reviews) * 100\n",
    "# print(f\"South American cuisine: {round(south_american_negative_to_total_negative_ratio, 2)}% of all negative reviews.\")\n",
    "\n",
    "# # Asian cuisine\n",
    "# asian_negative_to_total_negative_ratio = (asian_reviews_negative_count / total_negative_reviews) * 100\n",
    "# print(f\"Asian cuisine: {round(asian_negative_to_total_negative_ratio, 2)}% of all negative reviews.\")\n",
    "\n",
    "# # European cuisine\n",
    "# european_negative_to_total_negative_ratio = (european_reviews_negative_count / total_negative_reviews) * 100\n",
    "# print(f\"European cuisine: {round(european_negative_to_total_negative_ratio, 2)}% of all negative reviews.\")"
   ]
  },
  {
   "cell_type": "code",
   "execution_count": 38,
   "id": "3ef70f71-a9ec-4cdf-8dda-ce9814695d08",
   "metadata": {
    "execution": {
     "iopub.execute_input": "2025-01-01T21:17:11.866087Z",
     "iopub.status.busy": "2025-01-01T21:17:11.865427Z",
     "iopub.status.idle": "2025-01-01T21:17:11.894653Z",
     "shell.execute_reply": "2025-01-01T21:17:11.893055Z",
     "shell.execute_reply.started": "2025-01-01T21:17:11.866034Z"
    },
    "tags": []
   },
   "outputs": [],
   "source": [
    "# # Ratio of reviews with negative language to total reviews for each cuisine\n",
    "\n",
    "# # South american cuisine\n",
    "# south_american_negative_to_total_reviews_ratio = (south_american_reviews_negative_count / south_american_reviews_count) * 100\n",
    "# print(f\"South American cuisine: {round(south_american_negative_to_total_reviews_ratio, 2)}% of reviews are negative.\")\n",
    "\n",
    "# # Asian cuisine\n",
    "# asian_negative_to_total_reviews_ratio = (asian_reviews_negative_count / asian_reviews_count) * 100\n",
    "# print(f\"Asian cuisine: {round(asian_negative_to_total_reviews_ratio, 2)}% of reviews are negative.\")\n",
    "\n",
    "# # European cuisine\n",
    "# european_negative_to_total_reviews_ratio = (european_reviews_negative_count / european_reviews_count) * 100\n",
    "# print(f\"European cuisine: {round(european_negative_to_total_reviews_ratio, 2)}% of reviews are negative.\")\n"
   ]
  },
  {
   "cell_type": "code",
   "execution_count": 39,
   "id": "1319caf7-8169-46aa-bb7f-b409800f16e3",
   "metadata": {
    "execution": {
     "iopub.execute_input": "2025-01-01T21:17:11.897034Z",
     "iopub.status.busy": "2025-01-01T21:17:11.896504Z",
     "iopub.status.idle": "2025-01-01T21:17:12.006394Z",
     "shell.execute_reply": "2025-01-01T21:17:12.004674Z",
     "shell.execute_reply.started": "2025-01-01T21:17:11.896984Z"
    },
    "tags": []
   },
   "outputs": [],
   "source": [
    "# # Ratios of how many % of reviews with authenticity language have negative words\n",
    "# # South american cuisine\n",
    "# south_american_ratio = (south_american_reviews_both_count / south_american_reviews_authentic_count) * 100\n",
    "# print(f\"South American cuisine: {round(south_american_ratio,2)}% of reviews with authenticity language also contain negative words.\")\n",
    "\n",
    "# # Asian cuisine\n",
    "# asian_ratio = (asian_reviews_both_count / asian_reviews_authentic_count) * 100\n",
    "# print(f\"Asian cuisine: {round(asian_ratio,2)}% of reviews with authenticity language also contain negative words.\")\n",
    "\n",
    "# # European cuisine\n",
    "# european_ratio = (european_reviews_both_count / european_reviews_authentic_count) * 100\n",
    "# print(f\"European cuisine: {round(european_ratio,2)}% of reviews with authenticity language also contain negative words.\")\n"
   ]
  },
  {
   "cell_type": "code",
   "execution_count": 40,
   "id": "99f208e7-5b53-450c-baac-f8fe7b6e5561",
   "metadata": {
    "execution": {
     "iopub.execute_input": "2025-01-01T21:17:12.008911Z",
     "iopub.status.busy": "2025-01-01T21:17:12.008242Z",
     "iopub.status.idle": "2025-01-01T21:17:12.214902Z",
     "shell.execute_reply": "2025-01-01T21:17:12.213479Z",
     "shell.execute_reply.started": "2025-01-01T21:17:12.008858Z"
    },
    "tags": []
   },
   "outputs": [],
   "source": [
    "### Predicting the rating of certian restaurant given a user review"
   ]
  },
  {
   "cell_type": "code",
   "execution_count": 41,
   "id": "b0c1f254-af4f-4be4-a1c4-50268d34bc9a",
   "metadata": {
    "execution": {
     "iopub.execute_input": "2025-01-01T21:17:12.229059Z",
     "iopub.status.busy": "2025-01-01T21:17:12.228804Z",
     "iopub.status.idle": "2025-01-01T21:17:12.305119Z",
     "shell.execute_reply": "2025-01-01T21:17:12.303517Z",
     "shell.execute_reply.started": "2025-01-01T21:17:12.229028Z"
    },
    "tags": []
   },
   "outputs": [],
   "source": [
    "# Rename the reviews \"stars\" column, to avoid problems later\n",
    "reviews = reviews.withColumnRenamed(\"stars\", \"review_stars\")"
   ]
  },
  {
   "cell_type": "code",
   "execution_count": 42,
   "id": "7cda0a4b-b0ec-4212-877d-898a5bda9921",
   "metadata": {
    "execution": {
     "iopub.execute_input": "2025-01-01T21:17:12.307810Z",
     "iopub.status.busy": "2025-01-01T21:17:12.307191Z",
     "iopub.status.idle": "2025-01-01T21:17:12.331062Z",
     "shell.execute_reply": "2025-01-01T21:17:12.329457Z",
     "shell.execute_reply.started": "2025-01-01T21:17:12.307758Z"
    },
    "tags": []
   },
   "outputs": [],
   "source": [
    "# Extracting all the restaurants from business dataframe, to make sure that \n",
    "# I'm only considering restaurants (so where one of cataegories is \"restaurant\")\n",
    "restaurants = business.filter(lower(business.categories).contains(\"restaurant\"))"
   ]
  },
  {
   "cell_type": "code",
   "execution_count": 43,
   "id": "47fdf702-728b-4489-8bbc-06404ef0ae4e",
   "metadata": {
    "execution": {
     "iopub.execute_input": "2025-01-01T21:17:12.333731Z",
     "iopub.status.busy": "2025-01-01T21:17:12.333191Z",
     "iopub.status.idle": "2025-01-01T21:17:12.399807Z",
     "shell.execute_reply": "2025-01-01T21:17:12.398648Z",
     "shell.execute_reply.started": "2025-01-01T21:17:12.333681Z"
    },
    "tags": []
   },
   "outputs": [],
   "source": [
    "# Joining the reviews with restaurnts dataframe, to have all the reviews from restaurants\n",
    "restaurants_reviews = restaurants.join(reviews, on=\"business_id\", how=\"inner\")"
   ]
  },
  {
   "cell_type": "code",
   "execution_count": 44,
   "id": "2c53a727-8456-45ee-823f-aae4ac51bc04",
   "metadata": {
    "execution": {
     "iopub.execute_input": "2025-01-01T21:17:12.401161Z",
     "iopub.status.busy": "2025-01-01T21:17:12.400927Z",
     "iopub.status.idle": "2025-01-01T21:17:17.183351Z",
     "shell.execute_reply": "2025-01-01T21:17:17.181846Z",
     "shell.execute_reply.started": "2025-01-01T21:17:12.401132Z"
    },
    "tags": []
   },
   "outputs": [
    {
     "name": "stdout",
     "output_type": "stream",
     "text": [
      "+----------------------+----------------+---------------------------------------------------------------------------------------------------------------------------------------------------------------------------------------------------------------------------------------------------------------------------------------------------------------------------------------------------------------------------------------------------------------------------------------------------------------------------------------------+-------------------------------------------------------+---------------+----------------------------------------------------------------------+-------+----------+-----------+-----------------+-----------+------------+-----+-----+----+-------------------+-----+----------------------+------------+-------------------------------------------------------------------------------------------------------------------------------------------------------------------------------------------------------------------------------------------------------------------------------------------------------------------------------------------------------------------------------------------------------------------------------------------------------+------+----------------------+\n",
      "|business_id           |address         |attributes                                                                                                                                                                                                                                                                                                                                                                                                                                                                                   |categories                                             |city           |hours                                                                 |is_open|latitude  |longitude  |name             |postal_code|review_count|stars|state|cool|date               |funny|review_id             |review_stars|text                                                                                                                                                                                                                                                                                                                                                                                                                                                   |useful|user_id               |\n",
      "+----------------------+----------------+---------------------------------------------------------------------------------------------------------------------------------------------------------------------------------------------------------------------------------------------------------------------------------------------------------------------------------------------------------------------------------------------------------------------------------------------------------------------------------------------+-------------------------------------------------------+---------------+----------------------------------------------------------------------+-------+----------+-----------+-----------------+-----------+------------+-----+-----+----+-------------------+-----+----------------------+------------+-------------------------------------------------------------------------------------------------------------------------------------------------------------------------------------------------------------------------------------------------------------------------------------------------------------------------------------------------------------------------------------------------------------------------------------------------------+------+----------------------+\n",
      "|---kPU91CF4Lq2-WlRu9Lw|4903 State Rd 54|{null, null, u'none', {'touristy': False, 'hipster': False, 'romantic': False, 'divey': False, 'intimate': False, 'trendy': False, 'upscale': False, 'classy': True, 'casual': False}, True, null, null, True, False, True, {'garage': False, 'street': False, 'validated': False, 'lot': True, 'valet': False}, null, True, null, False, null, True, null, null, null, null, null, null, False, null, null, null, True, null, null, False, null, null, False, True, True, null, True, u'no'}|Seafood, Restaurants, Latin American, Food, Food Trucks|New Port Richey|{11:0-22:0, 0:0-0:0, 11:0-22:0, null, 11:0-21:0, 11:0-21:0, 11:0-21:0}|1      |28.2172884|-82.7333444|Frankie's Raw Bar|34652      |24          |4.5  |FL   |0   |2020-03-18 01:34:18|0    |rljdEt4_jgsqOgG-7myu-g|5.0         |Great place for group of friends to meet & eat the freshest seafood in New Port Richie!  Friendly and very casual!   The chef answered questions and made great recommendations!   Servings were very generous with a really good slaw!  Pricing very reasonable considering the quality and portions!   We will come back again.  The menu changes with the daily catch so we will try the next new thing Frankie cooks up!                           |2     |qrCkKrEwQ-q9m1iWSEnZKQ|\n",
      "|---kPU91CF4Lq2-WlRu9Lw|4903 State Rd 54|{null, null, u'none', {'touristy': False, 'hipster': False, 'romantic': False, 'divey': False, 'intimate': False, 'trendy': False, 'upscale': False, 'classy': True, 'casual': False}, True, null, null, True, False, True, {'garage': False, 'street': False, 'validated': False, 'lot': True, 'valet': False}, null, True, null, False, null, True, null, null, null, null, null, null, False, null, null, null, True, null, null, False, null, null, False, True, True, null, True, u'no'}|Seafood, Restaurants, Latin American, Food, Food Trucks|New Port Richey|{11:0-22:0, 0:0-0:0, 11:0-22:0, null, 11:0-21:0, 11:0-21:0, 11:0-21:0}|1      |28.2172884|-82.7333444|Frankie's Raw Bar|34652      |24          |4.5  |FL   |1   |2020-12-12 17:48:38|0    |JnfAi8vz8lcN63lvf52JYg|5.0         |Blown away how fun and awesome this little gem is! The atmosphere is so fun and festive and the garlic shrimp and fried lobster to die for! Cannot wait to go back and get some blue crabs steamed Baltimore style!!! It was a cold night but the heaters were perfect. It's BYOB which is also the bomb.com                                                                                                                                           |1     |UmQDlaIjLiPBZ7M6UBitVQ|\n",
      "|---kPU91CF4Lq2-WlRu9Lw|4903 State Rd 54|{null, null, u'none', {'touristy': False, 'hipster': False, 'romantic': False, 'divey': False, 'intimate': False, 'trendy': False, 'upscale': False, 'classy': True, 'casual': False}, True, null, null, True, False, True, {'garage': False, 'street': False, 'validated': False, 'lot': True, 'valet': False}, null, True, null, False, null, True, null, null, null, null, null, null, False, null, null, null, True, null, null, False, null, null, False, True, True, null, True, u'no'}|Seafood, Restaurants, Latin American, Food, Food Trucks|New Port Richey|{11:0-22:0, 0:0-0:0, 11:0-22:0, null, 11:0-21:0, 11:0-21:0, 11:0-21:0}|1      |28.2172884|-82.7333444|Frankie's Raw Bar|34652      |24          |4.5  |FL   |0   |2020-02-20 00:50:49|0    |XawsDBeNXlT_rRivcgmhyA|5.0         |Never would have thought a little hidden place like this would have such great food! We had oysters garlic shrimp and crab cakes and everything was amazing ! It was so good I forgot to take pictures before I devoured everything! Will definitely be back !                                                                                                                                                                                         |1     |5jlO2REcgB6GKFeSsc-OXw|\n",
      "|---kPU91CF4Lq2-WlRu9Lw|4903 State Rd 54|{null, null, u'none', {'touristy': False, 'hipster': False, 'romantic': False, 'divey': False, 'intimate': False, 'trendy': False, 'upscale': False, 'classy': True, 'casual': False}, True, null, null, True, False, True, {'garage': False, 'street': False, 'validated': False, 'lot': True, 'valet': False}, null, True, null, False, null, True, null, null, null, null, null, null, False, null, null, null, True, null, null, False, null, null, False, True, True, null, True, u'no'}|Seafood, Restaurants, Latin American, Food, Food Trucks|New Port Richey|{11:0-22:0, 0:0-0:0, 11:0-22:0, null, 11:0-21:0, 11:0-21:0, 11:0-21:0}|1      |28.2172884|-82.7333444|Frankie's Raw Bar|34652      |24          |4.5  |FL   |1   |2020-09-26 20:42:25|0    |7dFBRid1QdCCr2PNsfD_lw|5.0         |Finale a local Fresh seafood place to go to. Had the top neck clams & crabs. Great job guys. Thanks see you again with our corona 6 pack.                                                                                                                                                                                                                                                                                                              |0     |w2SrX4cPZqykJ5P7UwABng|\n",
      "|---kPU91CF4Lq2-WlRu9Lw|4903 State Rd 54|{null, null, u'none', {'touristy': False, 'hipster': False, 'romantic': False, 'divey': False, 'intimate': False, 'trendy': False, 'upscale': False, 'classy': True, 'casual': False}, True, null, null, True, False, True, {'garage': False, 'street': False, 'validated': False, 'lot': True, 'valet': False}, null, True, null, False, null, True, null, null, null, null, null, null, False, null, null, null, True, null, null, False, null, null, False, True, True, null, True, u'no'}|Seafood, Restaurants, Latin American, Food, Food Trucks|New Port Richey|{11:0-22:0, 0:0-0:0, 11:0-22:0, null, 11:0-21:0, 11:0-21:0, 11:0-21:0}|1      |28.2172884|-82.7333444|Frankie's Raw Bar|34652      |24          |4.5  |FL   |0   |2021-11-24 16:27:56|0    |38jzE6n8lbnvSM7p6SwTwA|5.0         |EVERYTHING we had on this menu was amazing . The stone crab claws are a must try, the sweet plantains, the garlic butter shrimp. All delicious. Service was awesome , just a nice laid  back place and you can BYOB. Our server annmarie was attentive and friendly. We met the owner Frankie and his family who were personable, friendly and went out of their way to make sure our daughter Bella had a great experience. Definitely will be back :)|0     |7F5NSUrKYEPdrewd25vBJQ|\n",
      "+----------------------+----------------+---------------------------------------------------------------------------------------------------------------------------------------------------------------------------------------------------------------------------------------------------------------------------------------------------------------------------------------------------------------------------------------------------------------------------------------------------------------------------------------------+-------------------------------------------------------+---------------+----------------------------------------------------------------------+-------+----------+-----------+-----------------+-----------+------------+-----+-----+----+-------------------+-----+----------------------+------------+-------------------------------------------------------------------------------------------------------------------------------------------------------------------------------------------------------------------------------------------------------------------------------------------------------------------------------------------------------------------------------------------------------------------------------------------------------+------+----------------------+\n",
      "only showing top 5 rows\n",
      "\n"
     ]
    }
   ],
   "source": [
    "# Exploring the reviews with 5.0 stars to find words that show positivity of the review\n",
    "# Filter the dataframe for rows where stars is 5.0\n",
    "five_star_reviews = restaurants_reviews.filter(col(\"review_stars\") == 5.0)\n",
    "\n",
    "# Show the first X rows\n",
    "five_star_reviews.show(50, truncate=False)\n",
    "\n",
    "# Result - positive words\n",
    "positive_keywords = [\"affordable\",\"amazing\",\"appreciated\",\"awesome\",\"be back\",\n",
    "    \"be returning\",\"best\",\"clean\",\"cool\",\"delicious\",\"delightful\",\"enjoy\",\"excellent\",\n",
    "    \"fantastic\",\"favourite\",\"flavorful\",\"friendly\",\"good\",\"good quality\",\"great\",\n",
    "    \"happy\",\"home\",\"incredible\",\"like\",\"love\",\"nice\",\"on point\",\"perfect\",\"phenomenal\",\n",
    "    \"pleasant\",\"pleased\",\"pretty\",\"reasonable\",\"recommend\",\"satisfied\",\"scrumptious\",\n",
    "    \"super\",\"the bomb\",\"top tier\",\"tremendous\",\"wonderful\",\"worth every penny\",\n",
    "    \"worth the wait\",\"wow\",\"yummy\",\"would recommend\"]"
   ]
  },
  {
   "cell_type": "code",
   "execution_count": 45,
   "id": "31e2a48b-05b6-42cd-ab5a-61c6ccc1eba4",
   "metadata": {
    "execution": {
     "iopub.execute_input": "2025-01-01T21:17:17.186416Z",
     "iopub.status.busy": "2025-01-01T21:17:17.185470Z",
     "iopub.status.idle": "2025-01-01T21:17:17.198140Z",
     "shell.execute_reply": "2025-01-01T21:17:17.196524Z",
     "shell.execute_reply.started": "2025-01-01T21:17:17.186362Z"
    },
    "tags": []
   },
   "outputs": [
    {
     "name": "stdout",
     "output_type": "stream",
     "text": [
      "root\n",
      " |-- business_id: string (nullable = true)\n",
      " |-- address: string (nullable = true)\n",
      " |-- attributes: struct (nullable = true)\n",
      " |    |-- AcceptsInsurance: string (nullable = true)\n",
      " |    |-- AgesAllowed: string (nullable = true)\n",
      " |    |-- Alcohol: string (nullable = true)\n",
      " |    |-- Ambience: string (nullable = true)\n",
      " |    |-- BYOB: string (nullable = true)\n",
      " |    |-- BYOBCorkage: string (nullable = true)\n",
      " |    |-- BestNights: string (nullable = true)\n",
      " |    |-- BikeParking: string (nullable = true)\n",
      " |    |-- BusinessAcceptsBitcoin: string (nullable = true)\n",
      " |    |-- BusinessAcceptsCreditCards: string (nullable = true)\n",
      " |    |-- BusinessParking: string (nullable = true)\n",
      " |    |-- ByAppointmentOnly: string (nullable = true)\n",
      " |    |-- Caters: string (nullable = true)\n",
      " |    |-- CoatCheck: string (nullable = true)\n",
      " |    |-- Corkage: string (nullable = true)\n",
      " |    |-- DietaryRestrictions: string (nullable = true)\n",
      " |    |-- DogsAllowed: string (nullable = true)\n",
      " |    |-- DriveThru: string (nullable = true)\n",
      " |    |-- GoodForDancing: string (nullable = true)\n",
      " |    |-- GoodForKids: string (nullable = true)\n",
      " |    |-- GoodForMeal: string (nullable = true)\n",
      " |    |-- HairSpecializesIn: string (nullable = true)\n",
      " |    |-- HappyHour: string (nullable = true)\n",
      " |    |-- HasTV: string (nullable = true)\n",
      " |    |-- Music: string (nullable = true)\n",
      " |    |-- NoiseLevel: string (nullable = true)\n",
      " |    |-- Open24Hours: string (nullable = true)\n",
      " |    |-- OutdoorSeating: string (nullable = true)\n",
      " |    |-- RestaurantsAttire: string (nullable = true)\n",
      " |    |-- RestaurantsCounterService: string (nullable = true)\n",
      " |    |-- RestaurantsDelivery: string (nullable = true)\n",
      " |    |-- RestaurantsGoodForGroups: string (nullable = true)\n",
      " |    |-- RestaurantsPriceRange2: string (nullable = true)\n",
      " |    |-- RestaurantsReservations: string (nullable = true)\n",
      " |    |-- RestaurantsTableService: string (nullable = true)\n",
      " |    |-- RestaurantsTakeOut: string (nullable = true)\n",
      " |    |-- Smoking: string (nullable = true)\n",
      " |    |-- WheelchairAccessible: string (nullable = true)\n",
      " |    |-- WiFi: string (nullable = true)\n",
      " |-- categories: string (nullable = true)\n",
      " |-- city: string (nullable = true)\n",
      " |-- hours: struct (nullable = true)\n",
      " |    |-- Friday: string (nullable = true)\n",
      " |    |-- Monday: string (nullable = true)\n",
      " |    |-- Saturday: string (nullable = true)\n",
      " |    |-- Sunday: string (nullable = true)\n",
      " |    |-- Thursday: string (nullable = true)\n",
      " |    |-- Tuesday: string (nullable = true)\n",
      " |    |-- Wednesday: string (nullable = true)\n",
      " |-- is_open: long (nullable = true)\n",
      " |-- latitude: double (nullable = true)\n",
      " |-- longitude: double (nullable = true)\n",
      " |-- name: string (nullable = true)\n",
      " |-- postal_code: string (nullable = true)\n",
      " |-- review_count: long (nullable = true)\n",
      " |-- stars: double (nullable = true)\n",
      " |-- state: string (nullable = true)\n",
      " |-- cool: long (nullable = true)\n",
      " |-- date: string (nullable = true)\n",
      " |-- funny: long (nullable = true)\n",
      " |-- review_id: string (nullable = true)\n",
      " |-- review_stars: double (nullable = true)\n",
      " |-- text: string (nullable = true)\n",
      " |-- useful: long (nullable = true)\n",
      " |-- user_id: string (nullable = true)\n",
      "\n"
     ]
    }
   ],
   "source": [
    "restaurants_reviews.printSchema()"
   ]
  },
  {
   "cell_type": "code",
   "execution_count": 46,
   "id": "9fed70f4-f55d-46b5-8bed-a7033ca84faa",
   "metadata": {
    "execution": {
     "iopub.execute_input": "2025-01-01T21:17:17.200812Z",
     "iopub.status.busy": "2025-01-01T21:17:17.200188Z",
     "iopub.status.idle": "2025-01-01T21:17:17.281250Z",
     "shell.execute_reply": "2025-01-01T21:17:17.279284Z",
     "shell.execute_reply.started": "2025-01-01T21:17:17.200761Z"
    },
    "tags": []
   },
   "outputs": [],
   "source": [
    "### Extracting the features. I decided to use city, state review_stars and text columns. "
   ]
  },
  {
   "cell_type": "code",
   "execution_count": 49,
   "id": "69e0210c-0ff5-47ac-88a1-a62631eb3bb5",
   "metadata": {
    "execution": {
     "iopub.execute_input": "2025-01-01T21:23:08.563540Z",
     "iopub.status.busy": "2025-01-01T21:23:08.562751Z",
     "iopub.status.idle": "2025-01-01T21:23:08.621842Z",
     "shell.execute_reply": "2025-01-01T21:23:08.620212Z",
     "shell.execute_reply.started": "2025-01-01T21:23:08.563484Z"
    },
    "tags": []
   },
   "outputs": [],
   "source": [
    "from pyspark.sql.functions import udf\n",
    "from pyspark.sql.types import IntegerType\n",
    "\n",
    "# Authenticity language\n",
    "authenticity_keywords = [\"authentic\", \"traditional\", \"original\", \n",
    "                         \"real\", \"legitimate\", \"genuine\"]\n",
    "\n",
    "# Define UDF for authenticity language\n",
    "def contains_authenticity_language(text):\n",
    "    if text:\n",
    "        words = text.lower().split()\n",
    "        return int(any(word in authenticity_keywords for word in words))\n",
    "    return 0\n",
    "\n",
    "authenticity_udf = udf(contains_authenticity_language, IntegerType())\n",
    "\n",
    "# Add authenticity column to the dataframe\n",
    "restaurants_reviews = restaurants_reviews.withColumn(\n",
    "    \"authenticity_language\", authenticity_udf(col(\"text\"))\n",
    ")"
   ]
  },
  {
   "cell_type": "code",
   "execution_count": 50,
   "id": "73621626-d6e5-41f7-938e-5d695fe94364",
   "metadata": {
    "execution": {
     "iopub.execute_input": "2025-01-01T21:23:10.524671Z",
     "iopub.status.busy": "2025-01-01T21:23:10.524036Z",
     "iopub.status.idle": "2025-01-01T21:23:10.562307Z",
     "shell.execute_reply": "2025-01-01T21:23:10.560684Z",
     "shell.execute_reply.started": "2025-01-01T21:23:10.524618Z"
    },
    "tags": []
   },
   "outputs": [],
   "source": [
    "# Define UDF for positive language\n",
    "def contains_positive_language(text):\n",
    "    if text:\n",
    "        words = text.lower().split()\n",
    "        return int(any(word in positive_keywords for word in words))\n",
    "    return 0\n",
    "\n",
    "positive_udf = udf(contains_positive_language, IntegerType())\n",
    "\n",
    "# Add positive language column to the dataframe\n",
    "restaurants_reviews = restaurants_reviews.withColumn(\n",
    "    \"positive_language\", positive_udf(col(\"text\"))\n",
    ")"
   ]
  },
  {
   "cell_type": "code",
   "execution_count": 57,
   "id": "13632897-481d-4870-bfb5-9115f296905e",
   "metadata": {
    "execution": {
     "iopub.execute_input": "2025-01-01T21:24:08.806927Z",
     "iopub.status.busy": "2025-01-01T21:24:08.806102Z",
     "iopub.status.idle": "2025-01-01T21:24:08.829135Z",
     "shell.execute_reply": "2025-01-01T21:24:08.827309Z",
     "shell.execute_reply.started": "2025-01-01T21:24:08.806870Z"
    },
    "tags": []
   },
   "outputs": [],
   "source": [
    "from pyspark.ml.feature import StringIndexer\n",
    "\n",
    "# Encoding categorical variables - city and state\n",
    "indexer_city = StringIndexer(inputCol=\"city\", outputCol=\"city_indexed\")\n",
    "indexer_state = StringIndexer(inputCol=\"state\", outputCol=\"state_indexed\")"
   ]
  },
  {
   "cell_type": "code",
   "execution_count": 51,
   "id": "ef6a75a8-6d68-4b0c-92fa-68597cae220a",
   "metadata": {
    "execution": {
     "iopub.execute_input": "2025-01-01T21:23:11.270292Z",
     "iopub.status.busy": "2025-01-01T21:23:11.269489Z",
     "iopub.status.idle": "2025-01-01T21:23:12.235321Z",
     "shell.execute_reply": "2025-01-01T21:23:12.232555Z",
     "shell.execute_reply.started": "2025-01-01T21:23:11.270234Z"
    },
    "tags": []
   },
   "outputs": [],
   "source": [
    "from pyspark.ml.feature import Tokenizer\n",
    "\n",
    "# Tokenize the review text \n",
    "tokenizer = Tokenizer(inputCol=\"text\", outputCol=\"words\")"
   ]
  },
  {
   "cell_type": "code",
   "execution_count": 58,
   "id": "fca91c3b-d384-4de7-a852-09892cf8a134",
   "metadata": {
    "execution": {
     "iopub.execute_input": "2025-01-01T21:24:09.653220Z",
     "iopub.status.busy": "2025-01-01T21:24:09.652564Z",
     "iopub.status.idle": "2025-01-01T21:24:09.666434Z",
     "shell.execute_reply": "2025-01-01T21:24:09.665488Z",
     "shell.execute_reply.started": "2025-01-01T21:24:09.653167Z"
    },
    "tags": []
   },
   "outputs": [],
   "source": [
    "from pyspark.ml.feature import VectorAssembler\n",
    "\n",
    "# Assemble all features into a single feature vector\n",
    "assembler = VectorAssembler(\n",
    "    inputCols=[\"stars\", \"review_stars\", \"city_indexed\", \"state_indexed\", \n",
    "               \"authenticity_language\", \"positive_language\"],\n",
    "    outputCol=\"final_features\"\n",
    ")"
   ]
  },
  {
   "cell_type": "code",
   "execution_count": 59,
   "id": "5cdb1c71-ef96-48d0-90f0-e37a6af20b3d",
   "metadata": {
    "execution": {
     "iopub.execute_input": "2025-01-01T21:24:10.108256Z",
     "iopub.status.busy": "2025-01-01T21:24:10.107625Z",
     "iopub.status.idle": "2025-01-01T21:24:10.123726Z",
     "shell.execute_reply": "2025-01-01T21:24:10.122640Z",
     "shell.execute_reply.started": "2025-01-01T21:24:10.108202Z"
    },
    "tags": []
   },
   "outputs": [],
   "source": [
    "from pyspark.ml.regression import LinearRegression\n",
    "\n",
    "# Linear Regression model\n",
    "linear_regression = LinearRegression(featuresCol=\"final_features\", labelCol=\"stars\")"
   ]
  },
  {
   "cell_type": "code",
   "execution_count": 62,
   "id": "e69b17b9-c4a3-4c82-b531-b227bf303920",
   "metadata": {
    "execution": {
     "iopub.execute_input": "2025-01-01T21:24:59.121555Z",
     "iopub.status.busy": "2025-01-01T21:24:59.120897Z",
     "iopub.status.idle": "2025-01-01T21:24:59.129434Z",
     "shell.execute_reply": "2025-01-01T21:24:59.128374Z",
     "shell.execute_reply.started": "2025-01-01T21:24:59.121500Z"
    },
    "tags": []
   },
   "outputs": [],
   "source": [
    "from pyspark.ml import Pipeline\n",
    "\n",
    "# Pipeline definition\n",
    "pipeline = Pipeline(stages=[\n",
    "    tokenizer,\n",
    "    indexer_city,\n",
    "    indexer_state,\n",
    "    assembler,\n",
    "    linear_regression\n",
    "])"
   ]
  },
  {
   "cell_type": "code",
   "execution_count": 63,
   "id": "fe084a8a-36c8-49ef-a208-7275779ca4e9",
   "metadata": {
    "execution": {
     "iopub.execute_input": "2025-01-01T21:25:00.450802Z",
     "iopub.status.busy": "2025-01-01T21:25:00.450165Z",
     "iopub.status.idle": "2025-01-01T21:25:00.474369Z",
     "shell.execute_reply": "2025-01-01T21:25:00.472541Z",
     "shell.execute_reply.started": "2025-01-01T21:25:00.450748Z"
    },
    "tags": []
   },
   "outputs": [],
   "source": [
    "### Splitting the dataset into training and testing sets\n",
    "train_df, test_df = restaurants_reviews.randomSplit([0.8, 0.2])"
   ]
  },
  {
   "cell_type": "code",
   "execution_count": 64,
   "id": "3718db8d-08de-4000-895f-67ecad4f6ebd",
   "metadata": {
    "execution": {
     "iopub.execute_input": "2025-01-01T21:25:01.150254Z",
     "iopub.status.busy": "2025-01-01T21:25:01.149440Z",
     "iopub.status.idle": "2025-01-01T21:28:18.794678Z",
     "shell.execute_reply": "2025-01-01T21:28:18.793646Z",
     "shell.execute_reply.started": "2025-01-01T21:25:01.150198Z"
    },
    "tags": []
   },
   "outputs": [],
   "source": [
    "### Train the model using the pipeline\n",
    "model = pipeline.fit(train_df)"
   ]
  },
  {
   "cell_type": "code",
   "execution_count": 65,
   "id": "2c8fd1fc-70b3-400d-aaf4-256403687c8f",
   "metadata": {
    "execution": {
     "iopub.execute_input": "2025-01-01T21:28:18.834791Z",
     "iopub.status.busy": "2025-01-01T21:28:18.834611Z",
     "iopub.status.idle": "2025-01-01T21:28:19.480124Z",
     "shell.execute_reply": "2025-01-01T21:28:19.408550Z",
     "shell.execute_reply.started": "2025-01-01T21:28:18.834774Z"
    },
    "tags": []
   },
   "outputs": [],
   "source": [
    "### Make predictions on the test set\n",
    "predictions = model.transform(test_df)"
   ]
  },
  {
   "cell_type": "code",
   "execution_count": 66,
   "id": "dc7101d2-f754-435c-a3bb-217157cd9e4f",
   "metadata": {
    "execution": {
     "iopub.execute_input": "2025-01-01T21:28:19.485268Z",
     "iopub.status.busy": "2025-01-01T21:28:19.484674Z",
     "iopub.status.idle": "2025-01-01T21:29:05.088827Z",
     "shell.execute_reply": "2025-01-01T21:29:05.087906Z",
     "shell.execute_reply.started": "2025-01-01T21:28:19.485216Z"
    },
    "tags": []
   },
   "outputs": [
    {
     "name": "stdout",
     "output_type": "stream",
     "text": [
      "Root Mean Squared Error (RMSE): 3.188343408925282e-15\n"
     ]
    }
   ],
   "source": [
    "from pyspark.ml.evaluation import RegressionEvaluator\n",
    "\n",
    "# Evaluate the model using RMSE\n",
    "evaluator = RegressionEvaluator(labelCol=\"stars\", predictionCol=\"prediction\", metricName=\"rmse\")\n",
    "rmse = evaluator.evaluate(predictions)\n",
    "print(f\"Root Mean Squared Error (RMSE): {rmse}\")"
   ]
  },
  {
   "cell_type": "code",
   "execution_count": 67,
   "id": "edfc7704-ab96-4265-8bb3-467512342168",
   "metadata": {
    "execution": {
     "iopub.execute_input": "2025-01-01T21:29:05.090647Z",
     "iopub.status.busy": "2025-01-01T21:29:05.090305Z",
     "iopub.status.idle": "2025-01-01T21:29:05.094984Z",
     "shell.execute_reply": "2025-01-01T21:29:05.093975Z",
     "shell.execute_reply.started": "2025-01-01T21:29:05.090616Z"
    },
    "tags": []
   },
   "outputs": [],
   "source": [
    "# Show some predictions\n",
    "predictions.select(\"business_id\", \"stars\", \"prediction\", \"text\").show(10, truncate=False)"
   ]
  }
 ],
 "metadata": {
  "kernelspec": {
   "display_name": "Python 3 ",
   "language": "python",
   "name": "python3"
  },
  "language_info": {
   "codemirror_mode": {
    "name": "ipython",
    "version": 3
   },
   "file_extension": ".py",
   "mimetype": "text/x-python",
   "name": "python",
   "nbconvert_exporter": "python",
   "pygments_lexer": "ipython3",
   "version": "3.10.6"
  }
 },
 "nbformat": 4,
 "nbformat_minor": 5
}
